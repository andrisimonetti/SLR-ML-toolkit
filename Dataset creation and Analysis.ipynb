{
 "cells": [
  {
   "cell_type": "markdown",
   "id": "d29227aa",
   "metadata": {
    "id": "d29227aa"
   },
   "source": [
    "# STAGE 0 - Python Setup\n",
    "\n",
    "- Run the code below to verify if the following packages are already installed, otherwise it will install them\n",
    "    - numpy, pandas, sklearn, scipy, networkx, matplotlib, tqdm"
   ]
  },
  {
   "cell_type": "code",
   "execution_count": null,
   "id": "398c5c09",
   "metadata": {
    "colab": {
     "base_uri": "https://localhost:8080/"
    },
    "id": "398c5c09",
    "outputId": "7ea20e00-bad6-4a69-8003-7e714773d22c"
   },
   "outputs": [],
   "source": [
    "import subprocess\n",
    "import sys\n",
    "\n",
    "def verify_package(package_name):\n",
    "    try:\n",
    "        # Importa il pacchetto per verificare se è installato\n",
    "        __import__(package_name)\n",
    "        print(f\"Il pacchetto '{package_name}' è già installato.\")\n",
    "    except ImportError:\n",
    "        print(f\"Il pacchetto '{package_name}' non è installato. Installazione in corso...\")\n",
    "        subprocess.check_call([sys.executable, \"-m\", \"pip\", \"install\", package_name])\n",
    "\n",
    "list_packages = ['numpy','pandas', 'sklearn', 'scipy', 'networkx', 'matplotlib', 'tqdm', 'xlsxwriter']\n",
    "for package in list_packages:\n",
    "    verify_package(package)\n"
   ]
  },
  {
   "cell_type": "markdown",
   "id": "2b29c365",
   "metadata": {
    "id": "2b29c365"
   },
   "source": [
    "### Only for cleaning the texts\n",
    "- Run the code below to verify if the following packages are already installed, otherwise it will install them\n",
    "    - spacy, nltk, unidecode"
   ]
  },
  {
   "cell_type": "code",
   "execution_count": null,
   "id": "588b3f16",
   "metadata": {
    "colab": {
     "base_uri": "https://localhost:8080/"
    },
    "id": "588b3f16",
    "outputId": "7ebff75d-7270-4187-b574-da82e2992abf"
   },
   "outputs": [],
   "source": [
    "list_packages_2 = ['spacy', 'nltk', 'unidecode']\n",
    "for package in list_packages_2:\n",
    "    verify_package(package)"
   ]
  },
  {
   "cell_type": "markdown",
   "id": "5c757279",
   "metadata": {
    "id": "5c757279"
   },
   "source": [
    "## Run the code below to import the functions for the analysis"
   ]
  },
  {
   "cell_type": "code",
   "execution_count": null,
   "id": "51aacb79",
   "metadata": {
    "id": "51aacb79"
   },
   "outputs": [],
   "source": [
    "import toolkit_functions as tlk"
   ]
  },
  {
   "cell_type": "markdown",
   "id": "1e5a99c8",
   "metadata": {
    "id": "1e5a99c8"
   },
   "source": [
    "\n",
    "\n",
    "# STAGE 1 - Dataset creation"
   ]
  },
  {
   "cell_type": "markdown",
   "id": "b03e38b8",
   "metadata": {
    "id": "b03e38b8"
   },
   "source": [
    "## Phase 1: Create the data frame from a file downloaded from Scopus or Web of Science"
   ]
  },
  {
   "cell_type": "markdown",
   "id": "c5a52234",
   "metadata": {
    "id": "c5a52234"
   },
   "source": [
    "### Input from Web of Science\n",
    " - **filename**: name of the file downloaded from Web of Sciece with .txt extension. The file must be in the same folder of this Notebook.\n",
    "\n",
    "### Output\n",
    " - **Dataset_input.xslx** file: a data frame in which each row represents a paper and the columns are:\n",
    "     - text id; Authors; Article title; Abstract; Source title; Pubblication year; Journal abbreviation; Journal ISO abbreviation; References; Total number of citations; Number of internal citations; References internal id; DOI."
   ]
  },
  {
   "cell_type": "code",
   "execution_count": null,
   "id": "67f36223",
   "metadata": {
    "id": "67f36223"
   },
   "outputs": [],
   "source": [
    "tlk.read_wos_txt(filename='your_file.txt')"
   ]
  },
  {
   "cell_type": "markdown",
   "id": "1a5b4799",
   "metadata": {
    "id": "1a5b4799"
   },
   "source": [
    "## Or"
   ]
  },
  {
   "cell_type": "markdown",
   "id": "1f971c5c",
   "metadata": {
    "id": "1f971c5c"
   },
   "source": [
    "### Input from Scopus\n",
    " - **filename**: name of the file downloaded from Scopus with .csv extension. The file must be in the same folder of this Notebook.\n",
    "\n",
    "### Output\n",
    " - **Dataset_input.xslx** file: a data frame in which each row represents a paper and the columns are:\n",
    "     - text id; Authors; Article title; Abstract; Source title; Pubblication year; Journal abbreviation; References; Total number of citations; Number of internal citations; References internal id; DOI."
   ]
  },
  {
   "cell_type": "code",
   "execution_count": null,
   "id": "dbb8ee19",
   "metadata": {
    "colab": {
     "base_uri": "https://localhost:8080/"
    },
    "id": "dbb8ee19",
    "outputId": "212d261d-247a-460b-db74-6f63d1e8b120"
   },
   "outputs": [],
   "source": [
    "tlk.read_scopus_csv(filename='your_file.csv')"
   ]
  },
  {
   "cell_type": "markdown",
   "id": "4d0e554c",
   "metadata": {
    "id": "4d0e554c"
   },
   "source": [
    "#\n",
    "# Phase 2: Add the top journal flags\n",
    "### Inputs:\n",
    " - **filename**: file to indicate which are the Top journals. The default file is 'TopJournal_list.txt' and the list was taken from https://journalranking.org considering all the journals ranked as 3, 4, and 4* according to the ABS ranking. If you want to use a different file, create a file .txt with the list of journals, where each journal name is divided by newline as in the file 'TopJournal_list.txt'.\n",
    "\n",
    "\n",
    " - **df_file**: name of the file with .xlsx extension. The file is a data frame created in the previuos step, named 'Dataset_input.xlsx'. The file is a data frame with a column, named 'source_title', that refers to the name of the journal where the paper was pubblished.\n",
    "\n",
    "### Output:\n",
    "- **Dataset_input.xslx** file: the input data frame  with a new column ('TOPJ') to indicate if the journal is top or not."
   ]
  },
  {
   "cell_type": "code",
   "execution_count": null,
   "id": "7cf00cc4",
   "metadata": {
    "id": "7cf00cc4"
   },
   "outputs": [],
   "source": [
    "tlk.add_top_journal(filename='TopJournal_list.txt', df_file='Dataset_input.xlsx')"
   ]
  },
  {
   "cell_type": "markdown",
   "id": "d98bcaeb",
   "metadata": {
    "id": "d98bcaeb"
   },
   "source": [
    "#\n",
    "# Phase 3: Clean the texts\n",
    "### Input:\n",
    "- **filename**: name of the file with .xlsx extension. The file is a data frame as created in the previuos step, named 'Dataset_input.xlsx'.\n",
    "    - Note: each text (abstract) should be a single string.\n",
    "\n",
    "### Output:\n",
    "- **Dataset_input.xslx** file: the input data frame with a new column ('clean_text) with the cleaned version of the abstract."
   ]
  },
  {
   "cell_type": "code",
   "execution_count": null,
   "id": "d152f08f",
   "metadata": {
    "colab": {
     "base_uri": "https://localhost:8080/",
     "height": 435
    },
    "id": "d152f08f",
    "outputId": "b540f141-ad55-47b0-e717-cb36d6a51ed1"
   },
   "outputs": [],
   "source": [
    "tlk.preprocess(filename='Dataset_input.xlsx')"
   ]
  },
  {
   "cell_type": "markdown",
   "id": "27df5633",
   "metadata": {
    "id": "27df5633"
   },
   "source": [
    "#\n",
    "# STAGE 2 - Analysis"
   ]
  },
  {
   "cell_type": "markdown",
   "id": "c87e0541",
   "metadata": {
    "id": "c87e0541"
   },
   "source": [
    "## Run the code below to import the functions for the analysis"
   ]
  },
  {
   "cell_type": "code",
   "execution_count": null,
   "id": "314519ad",
   "metadata": {
    "id": "314519ad"
   },
   "outputs": [],
   "source": [
    "import toolkit_functions as tlk"
   ]
  },
  {
   "cell_type": "markdown",
   "id": "a21be61d",
   "metadata": {
    "id": "a21be61d"
   },
   "source": [
    "#\n",
    "# Phase 3: Topic definition and document—topic associations\n",
    "##  Input values required to run the analysis:\n",
    "\n",
    "- **file_name**: name of the file created in Stage 1 (\"Dataset_Input.xlsx\").\n",
    "    - If you created your data frame skipping Stage 1, note that the input data frame must have the following columns:\n",
    "        - 'text_id': the identifier of the document, e.g. \"d1\".\n",
    "        - 'Total number of citations': total number of citations.\n",
    "        - 'clean_text': pre—processed text as string; words are separated by space.\n",
    "    \n",
    "\n",
    "\n",
    "- **method**: correction method for multiple testing problem: 'bonf' (Bonferroni correction) or 'fdr' (False Discovery Rate, (Benjamini Y and Hochberg Y, 1995)); the default value is 'fdr'.\n",
    "\n",
    "\n",
    "- **threshold**: value of the threshold to construct the Statistically Validated Network of words; the defaut value is 0.01.\n",
    "\n",
    "\n",
    "## Outputs:\n",
    "- **SVN words.txt** file: the edges list of the Statistically Validated Network of words; each row represents a link between two nodes ('source' and 'target') with its p-value and Pearson correlation coefficient. The file consists of four columns separated by '\\t':\n",
    "    - source, target, p-values, weight (Pearson correlation coefficient).\n",
    "    \n",
    "    \n",
    "- **Topic definition.xlsx** file: a data frame describing the Topics found as community of words in the Statistically Validated Network. The data frame has the following columns:\n",
    "    - 'topic': the identifier of the topic, e.g. \"topic_1\".\n",
    "    - 'word': the word in stemming form.\n",
    "    - 'modularity contribution': the importance of the node (word) within the community (topic) in terms of modularity contribution.\n",
    "    - 'original words': the list of words before the stemming procedure.\n",
    "\n",
    "\n",
    "- **Topic Document association.xlsx** file: a data frame describing the associations between documents and topics; \"topic_0\" represents the 'General' topic.  The data frame has the following columns:\n",
    "    - 'text_id': the identifier of the document, e.g. \"d1\".\n",
    "    - 'Article title': the title of the paper.\n",
    "    - 'topic': the identifier of the topic, e.g. \"topic_1\".\n",
    "    - 'p-value': the p-value of the over—expression of the topic within the document.\n",
    "    - 'correlation': Pearson correlation coefficient of the over—expression of the topic within the document."
   ]
  },
  {
   "cell_type": "code",
   "execution_count": null,
   "id": "7dac53b9",
   "metadata": {
    "id": "7dac53b9"
   },
   "outputs": [],
   "source": [
    "tlk.run_analysis(file_name='Dataset_input.xlsx', method='fdr', threshold=0.01)"
   ]
  },
  {
   "cell_type": "markdown",
   "id": "6299a04a",
   "metadata": {
    "id": "6299a04a"
   },
   "source": [
    "#\n",
    "# Phase 4: Statistics of the selected topics\n",
    "\n",
    "## Input values required:\n",
    "\n",
    "- **file_name1**: file with .xlsx extension. The file 'Dataset_Input.xlsx' was used as input in Phase 1.\n",
    "    - If you created your data frame skipping Stage 1, note that the input data frame must have the following columns:\n",
    "        - 'text_id': the identifier of the document, e.g. \"d1\".\n",
    "        - 'Total number of citations': total number of citations.\n",
    "        - 'Number of internal citations': number of citations within the dataset.\n",
    "        - 'TopJ': boolean (\"Y\" or \"N\") if the pubblication belongs to Top Journal or not.\n",
    "\n",
    "\n",
    "- **file_name2**:  file with .xlsx extension. The file 'Topic Document association.xlsx' was obtained in Phase 1.\n",
    "\n",
    "\n",
    "- **file_name3**: file with .xlsx extension. The file 'Topic definition.xlsx' was obtained in Phase 1.\n",
    "\n",
    "\n",
    "- **file_name4**: file with .xlsx extension. The file 'topic_label_example.xlsx' was created to store the labels of topics in STAGE 2 - Step 2. The file must be a data frame with two columns called 'topic' and 'label'. The column 'topic' contains the id of topics as in the file 'Topic definition.xlsx'. The column 'label' contains the name you assigned to the topic selected. The file 'topic_label_example.xlsx' is an example.\n",
    "\n",
    "## Outputs:\n",
    "\n",
    "- **stats_topic.xlsx** file: a data frame describing the topics and some related statistics."
   ]
  },
  {
   "cell_type": "code",
   "execution_count": null,
   "id": "da44798c",
   "metadata": {
    "id": "da44798c"
   },
   "outputs": [],
   "source": [
    "tlk.run_stats(file_name1='Dataset_input.xlsx', file_name2='Topic Document association.xlsx',\n",
    "              file_name3='Topic definition.xlsx', file_name4='topic_label_example.xlsx')"
   ]
  },
  {
   "cell_type": "markdown",
   "id": "8a82dbbc",
   "metadata": {
    "id": "8a82dbbc"
   },
   "source": [
    "#\n",
    "# Phase 5: Selection of articles\n",
    "\n",
    "## Input values required:\n",
    "\n",
    "- **file_name1**: file with .xlsx extension. The file 'Dataset_Input.xlsx' was used as input in Phase 1.\n",
    "    - If you created your data frame skipping Stage 1, note that the input data frame must have the following columns:\n",
    "        - 'text_id': the identifier of the document, e.g. \"d1\".\n",
    "        - 'Total number of citations': total number of citations.\n",
    "        - 'Number of internal citations': number of citations within the dataset.\n",
    "        - 'TopJ': boolean (\"Y\" or \"N\") if the pubblication belongs to Top Journal or not.\n",
    "\n",
    "\n",
    "- **file_name2**:  file with .xlsx extension. The file 'Topic Document association.xlsx' was obtained in Phase 1.\n",
    "\n",
    "\n",
    "- **file_name3**: file with .xlsx extension. The file 'topic_label_example.xlsx' was created to store the labels of topics in STAGE 2 - Step 2. The file must be a data frame with two columns called 'topic' and 'label'. The column 'topic' contains the id of topics as in the file 'Topic definition.xlsx'. The column 'label' contains the name you assigned to the topic selected. The file 'topic_label_example.xlsx' is an example.\n",
    "\n",
    "\n",
    "- **selection**: the selection criterion. You can use 'broad', selecting the papers with at least one citation in Scopus or Web of Science database,  or 'narrow', selecting the papers with at least one citation within the dataset downloaded. The default value is 'broad'.\n",
    "\n",
    "\n",
    "\n",
    "## Outputs:\n",
    "\n",
    "- **Final Dataset selection.xlsx** file: a data frame containing only the articles in the final selection that meet your filers."
   ]
  },
  {
   "cell_type": "code",
   "execution_count": null,
   "id": "a53a1091",
   "metadata": {
    "id": "a53a1091"
   },
   "outputs": [],
   "source": [
    "tlk.dataset_selection(file_name1='Dataset_input.xlsx', file_name2='Topic Document association.xlsx',\n",
    "                      file_name3='topic_label_example.xlsx', selection='broad')"
   ]
  },
  {
   "cell_type": "markdown",
   "id": "8127721a",
   "metadata": {
    "id": "8127721a"
   },
   "source": [
    "#\n",
    "#\n",
    "# STAGE 3 - Plots"
   ]
  },
  {
   "cell_type": "markdown",
   "id": "a8dcb596",
   "metadata": {
    "id": "a8dcb596"
   },
   "source": [
    "# Phase 6: Plot the selected topics"
   ]
  },
  {
   "cell_type": "markdown",
   "id": "31b7143f",
   "metadata": {
    "id": "31b7143f"
   },
   "source": [
    "## Input:\n",
    "- **filename**: file with .xlsx extension. The output file 'stats_topic.xlsx' of Phase 4.\n",
    "- **name**: name of the file to save the plot.\n",
    "\n",
    "## Output:\n",
    "- Scatter-plot of topics along two dimensions: 'ratio of citations' (x-axis) and 'ratio of top journals' (y-axis). 'ratio of citations' is obtained as the 'Average number of citations within the dataset' divided by 'Average number of citations'. 'ratio of top journals' is obtained as the 'Number of papers from top journals over—expressed' divided by 'Number of papers over—expressed'."
   ]
  },
  {
   "cell_type": "code",
   "execution_count": null,
   "id": "f30dba24",
   "metadata": {
    "id": "f30dba24"
   },
   "outputs": [],
   "source": [
    "tlk.plot_stats_1(filename='stats_topic.xlsx', name='topic_overview_1.pdf')"
   ]
  },
  {
   "cell_type": "markdown",
   "id": "49851ddd",
   "metadata": {
    "id": "49851ddd"
   },
   "source": [
    "## Input:\n",
    "- **filename**: file with .xlsx extension. The output file 'stats_topic.xlsx' of Phase 4.\n",
    "- **name**: name of the file to save the plot.\n",
    "\n",
    "## Output:\n",
    "- Scatter-plot of topics along two dimensions: 'Average number of citations within the dataset' (x-axis) and 'Average number of citations' (y-axis)."
   ]
  },
  {
   "cell_type": "code",
   "execution_count": null,
   "id": "47f61210",
   "metadata": {
    "id": "47f61210"
   },
   "outputs": [],
   "source": [
    "tlk.plot_stats_2(filename='stats_topic.xlsx', name='topic_overview_2.pdf')"
   ]
  }
 ],
 "metadata": {
  "colab": {
   "provenance": []
  },
  "kernelspec": {
   "display_name": "Python 3 (ipykernel)",
   "language": "python",
   "name": "python3"
  },
  "language_info": {
   "codemirror_mode": {
    "name": "ipython",
    "version": 3
   },
   "file_extension": ".py",
   "mimetype": "text/x-python",
   "name": "python",
   "nbconvert_exporter": "python",
   "pygments_lexer": "ipython3",
   "version": "3.8.18"
  }
 },
 "nbformat": 4,
 "nbformat_minor": 5
}
