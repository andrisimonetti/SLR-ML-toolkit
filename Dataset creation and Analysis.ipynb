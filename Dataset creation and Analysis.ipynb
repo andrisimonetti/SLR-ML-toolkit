{
 "cells": [
  {
   "cell_type": "markdown",
   "id": "1db0705d",
   "metadata": {},
   "source": [
    "# STAGE 0 - Download all files in a customize local repository\n",
    "\n",
    "### Input\n",
    "- **git_url**: link of the GitHub URL 'https://github.com/andrisimonetti/SLR-toolkit_2' (Not change)\n",
    "- **your_repository**: the path of the repository you want to download all files from GitHub\n",
    "\n",
    "### Output\n",
    "- A new folder with the name of the GitHub repository will be created. In the folder contains all files need to run the codes below"
   ]
  },
  {
   "cell_type": "code",
   "execution_count": null,
   "id": "8c136e70",
   "metadata": {},
   "outputs": [],
   "source": [
    "from git import Repo\n",
    "git_url = 'https://github.com/andrisimonetti/SLR-toolkit_2'\n",
    "your_repository = 'your/local/path'\n",
    "Repo.clone_from(git_url, your_repository)"
   ]
  },
  {
   "cell_type": "markdown",
   "id": "f5da4f81",
   "metadata": {},
   "source": [
    "# STAGE 1 - Dataset creation"
   ]
  },
  {
   "cell_type": "markdown",
   "id": "370a0af1",
   "metadata": {},
   "source": [
    "## Phase 1: Create the data frame from a file downloaded from Scopus or Web of Science\n",
    "\n",
    "### Input\n",
    " - **filename**: name of the file downloaded from web of Sciece with .txt extension. The file must be in the same folder of this Notebook.\n",
    "\n",
    "### Output\n",
    " - \"Dataset_input.xslx\" file, a DataFrame in which each row represents a paper and the columns are:\n",
    "     - id of text; First author; Authors; Article title; Abstract; Source title; Pubblication year; Journal abbreviation; Journal iso abbreviation; References; Total number of citations; Number of internal citations; References internal id; doi."
   ]
  },
  {
   "cell_type": "code",
   "execution_count": null,
   "id": "6d3f3f14",
   "metadata": {},
   "outputs": [],
   "source": [
    "import preprocessing_functions as prp"
   ]
  },
  {
   "cell_type": "code",
   "execution_count": null,
   "id": "f3b6ebab",
   "metadata": {},
   "outputs": [],
   "source": [
    "prp.read_wos_txt(filename'savedrecs12.txt')"
   ]
  },
  {
   "cell_type": "markdown",
   "id": "7a3163d1",
   "metadata": {},
   "source": [
    "# Phase 2: Add the top journal flags\n",
    "### Inputs:\n",
    " - **filename**: file to indicate which are the Top journals. The default file is 'TopJournal_list.txt' and the list was taken from https://journalranking.org considering all the journals ranked as 3, 4, and 4*. If you want to use a different file, create a file .txt with the list of journals, where each journal name is divided by newline as in the file 'TopJournal_list.txt'.\n",
    "\n",
    "\n",
    " - **df_file**: name of the file with .xlsx extension. The file is a DataFrame with a column, named 'source_title', that refers to the name of the journal where the paper was pubblished.\n",
    "\n",
    "### Output:\n",
    "- 'Dataset_input.xslx' file, the input DataFrame  with a new column ('TOPJ') that indicate if the journal is top or not."
   ]
  },
  {
   "cell_type": "code",
   "execution_count": null,
   "id": "3cf413b2",
   "metadata": {},
   "outputs": [],
   "source": [
    "slr.add_top_journal(filename=\"TopJournal_list.txt\", df_file='Dataset_input.xlsx')"
   ]
  },
  {
   "cell_type": "markdown",
   "id": "c9202a2c",
   "metadata": {},
   "source": [
    "# Phase 3: Clean the texts\n",
    "### Input:\n",
    "- **filename**: name of the file with .xlsx extension. The file is a DataFrame as created in th previuos step, named 'Dataset_input.xlsx'.\n",
    "    - Note: each text (abstract) should be a single string\n",
    "\n",
    "### Output:\n",
    "- 'Dataset_input.xslx' file, the input DataFrame with a new columns ('clean_text) with the cleaned version of the abstract"
   ]
  },
  {
   "cell_type": "code",
   "execution_count": null,
   "id": "73174d71",
   "metadata": {},
   "outputs": [],
   "source": [
    "slr.preprocess(filename='Dataset_input.xlsx')"
   ]
  },
  {
   "cell_type": "markdown",
   "id": "ed11f298",
   "metadata": {},
   "source": [
    "# STAGE 2 - Analysis"
   ]
  },
  {
   "cell_type": "markdown",
   "id": "a21be61d",
   "metadata": {},
   "source": [
    "# Phase 3: Topic definition and document-topic associations\n",
    "##  Input values required to run the analysis:\n",
    "\n",
    "- **file_name**: name of the file created in Stage 1 (\"Dataset_Input.xlsx\").\n",
    "    - If you want to create your data frame skipping Stage 1, note that the input data frame must have the following columns:\n",
    "        - 'text_id': the identifier of the document, e.g. 'd1'.\n",
    "        - 'Total number of citations': total number of citations.\n",
    "        - 'Number of internal citations': number of citations within the dataset.\n",
    "        - 'References internal id': string of 'text_id' separated by space reporting the documents that appear as references, e.g. \"d1 d2 d3 d4 d5\".\n",
    "        - \"TopJ\": boolean ('Y' or 'N') if the pubblication belongs to Top Journal or not.\n",
    "        - \"clean_text\": pre-processed text as string; words are separated by space.\n",
    "    \n",
    "\n",
    "\n",
    "- **method_w**: correction method for multiple testing problem: 'bonf' (Bonferroni correction) or 'fdr' (False Discovery Rate, Benjamini Y and Hochberg Y, 1995); the default value is 'bonf'.\n",
    "\n",
    "\n",
    "- **soglia_w**: value of the threshold to construct the Statistically Validated Network of words; the defaut value is 0.01.\n",
    "\n",
    "\n",
    "- **soglia_d**: value of the threshold for document-topic associations with Bonferroni correction method, the defaut value is 0.01.\n",
    "\n",
    "\n",
    "- **soglia_0**: value of the threshold to calculate the associations between documents and the 'General'-topic with the Bonferroni correction method; the defaut value is 0.01.\n",
    "\n",
    "\n",
    "## Outputs:\n",
    "- **svn_words.txt**: file with the edges list of the Statistically Validated Network of words; each row represents a link between two nodes ('source' and 'target') with its p-value and Pearson correlation coefficient. The file consists of four columns separated by '\\t':\n",
    "    - source, target, p-values, weight (Pearson correlation coefficient)\n",
    "    \n",
    "    \n",
    "- **topic_definition.xlsx**: data frame describing the Topics found as community of words in the Statistically Validated Network. The data frame has the following columns:\n",
    "    - 'topic': the identifier of the topic, e.g. 'topic_1'\n",
    "    - 'word': the word in stemming form\n",
    "    - 'modularity contribution': the importance of the node (word) within the community(topic) in terms of modularity contribution\n",
    "    - 'original words': the list of words before the stemming procedure\n",
    "\n",
    "\n",
    "- **Topic_Document_association.xlsx**: data frame describing the associations between documents and topics; 'topic_0' represents the 'General' topic.  The data frame has the following columns:\n",
    "    - 'text_id': the identifier of the document, e.g. 'd1'\n",
    "    - 'topic': the identifier of the topic, e.g. 'topic_1'\n",
    "    - 'p-value': the p-value of the over-expression of the topic within the document\n",
    "    - 'correlation': Person correlation coefficient of the over-expression of the topic within the document."
   ]
  },
  {
   "cell_type": "code",
   "execution_count": null,
   "id": "9d2c8a51",
   "metadata": {},
   "outputs": [],
   "source": [
    "import toolkit_functions as tlk"
   ]
  },
  {
   "cell_type": "code",
   "execution_count": null,
   "id": "7dac53b9",
   "metadata": {},
   "outputs": [],
   "source": [
    "tlk.run_analysis(file_name='Dataset_Input.xlsx', method_w='fdr', soglia_w=0.01,\n",
    "                 soglia_d=0.01, soglia_0=0.01)"
   ]
  },
  {
   "cell_type": "markdown",
   "id": "6299a04a",
   "metadata": {},
   "source": [
    "# Phase 4: Statistics of topics selected\n",
    "\n",
    "## Input values required:\n",
    "\n",
    "- **file_name1**: file with .xlsx extension. The file \"Dataset_Input.xlsx\" was used as input in Phase 1.\n",
    "\n",
    "\n",
    "- **file_name2**:  file with .xlsx extension. The file \"Topic_Document_association.xlsx\" was obtained in Phase 1.\n",
    "\n",
    "\n",
    "- **file_name3**: file with .xlsx extension. The file \"topic_definition.xlsx\" was obtained in Phase 1.\n",
    "\n",
    "\n",
    "- **file_name4**: file with .xlsx extension. The file \"topic_label_example.xlsx\" was created to store the labels of topics in STAGE 2 - Step 2. The file must be a data frame with two columns called 'topic' and 'label'. The column 'topic' contains the id of topics as in the file \"topic_definition.xlsx\". The column 'label' contains the name you assigned to the topic selected. The file 'topic_label_example.xlsx' is an example.\n",
    "\n",
    "## Outputs:\n",
    "\n",
    "- **'stats_topic.xlsx'**: data frame describing the topics and some related statistics."
   ]
  },
  {
   "cell_type": "code",
   "execution_count": null,
   "id": "da44798c",
   "metadata": {},
   "outputs": [],
   "source": [
    "tlk.run_stats(file_name1='Dataset_Input.xlsx', file_name2='Topic_Document_association.xlsx', \n",
    "              file_name3='topic_definition.xlsx', file_name4='topic_label_example.xlsx')\n",
    "\n"
   ]
  },
  {
   "cell_type": "markdown",
   "id": "dce35dc2",
   "metadata": {},
   "source": [
    "# Phase 5: Plot the topics selected"
   ]
  },
  {
   "cell_type": "markdown",
   "id": "12d0dc5d",
   "metadata": {},
   "source": [
    "## Input:\n",
    "- **df**: file with .xlsx extension. The output file 'stats_topic.xlsx' of Phase 4.\n",
    "- **name**: name of the file to save the plot.\n",
    "\n",
    "## Output:\n",
    "- scatter-plot of documents along two dimensions: 'ratio of citations' (x-axis) and 'ratio of top journals' (y-axis)."
   ]
  },
  {
   "cell_type": "code",
   "execution_count": null,
   "id": "fc525011",
   "metadata": {},
   "outputs": [],
   "source": [
    "tlk.plot_stats_1(df='stats_topic.xlsx', name='topic_overview_1.pdf')"
   ]
  },
  {
   "cell_type": "markdown",
   "id": "fb50c3ff",
   "metadata": {},
   "source": [
    "## Input:\n",
    "- **df**: file with .xlsx extension. The output file 'stats_topic.xlsx' of Phase 4.\n",
    "- **name**: name of the file to save the plot.\n",
    "\n",
    "## Output:\n",
    "- scatter-plot of documents along two dimensions: 'number of internal citations' (x-axis) and 'total number of citations' (y-axis)."
   ]
  },
  {
   "cell_type": "code",
   "execution_count": null,
   "id": "9480b097",
   "metadata": {},
   "outputs": [],
   "source": [
    "tlk.plot_stats_2(df='stats_topic.xlsx', name='topic_overview_1.pdf')"
   ]
  }
 ],
 "metadata": {
  "kernelspec": {
   "display_name": "Python 3 (ipykernel)",
   "language": "python",
   "name": "python3"
  },
  "language_info": {
   "codemirror_mode": {
    "name": "ipython",
    "version": 3
   },
   "file_extension": ".py",
   "mimetype": "text/x-python",
   "name": "python",
   "nbconvert_exporter": "python",
   "pygments_lexer": "ipython3",
   "version": "3.8.18"
  }
 },
 "nbformat": 4,
 "nbformat_minor": 5
}
