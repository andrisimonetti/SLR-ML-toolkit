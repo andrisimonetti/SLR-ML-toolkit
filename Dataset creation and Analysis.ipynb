{
 "cells": [
  {
   "cell_type": "markdown",
   "id": "50e9908e",
   "metadata": {},
   "source": [
    "# STAGE 1 - Dataset creation"
   ]
  },
  {
   "cell_type": "markdown",
   "id": "ca247624",
   "metadata": {},
   "source": [
    "## Phase 1: Create the data frame from a file downloaded from Scopus or Web of Science"
   ]
  },
  {
   "cell_type": "markdown",
   "id": "ad79cc0d",
   "metadata": {},
   "source": [
    "### Input\n",
    " - **filename**: name of the file downloaded from Web of Sciece with .txt extension. The file must be in the same folder of this Notebook.\n",
    "\n",
    "### Output\n",
    " - \"Dataset_input.xslx\" file: a DataFrame in which each row represents a paper and the columns are:\n",
    "     - text id; Authors; Article title; Abstract; Source title; Pubblication year; Journal abbreviation; Journal ISO abbreviation; References; Total number of citations; Number of internal citations; References internal id; DOI."
   ]
  },
  {
   "cell_type": "code",
   "execution_count": null,
   "id": "aa3efd5d",
   "metadata": {},
   "outputs": [],
   "source": [
    "import preprocessing_functions as prp\n",
    "prp.read_wos_txt(filename='your_file_path.txt')"
   ]
  },
  {
   "cell_type": "markdown",
   "id": "b93d5f0b",
   "metadata": {},
   "source": [
    "## Or"
   ]
  },
  {
   "cell_type": "markdown",
   "id": "60da3b49",
   "metadata": {},
   "source": [
    "### Input\n",
    " - **filename**: name of the file downloaded from Scopus with .csv extension. The file must be in the same folder of this Notebook.\n",
    "\n",
    "### Output\n",
    " - \"Dataset_input.xslx\" file: a DataFrame in which each row represents a paper and the columns are:\n",
    "     - text id; Authors; Article title; Abstract; Source title; Pubblication year; Journal abbreviation; References; Total number of citations; Number of internal citations; References internal id; DOI."
   ]
  },
  {
   "cell_type": "code",
   "execution_count": null,
   "id": "0c33a73d",
   "metadata": {},
   "outputs": [],
   "source": [
    "import preprocessing_functions as prp\n",
    "\n",
    "read_scopus_csv(filename='your_file_path.csv')"
   ]
  },
  {
   "cell_type": "markdown",
   "id": "f693bdb2",
   "metadata": {},
   "source": [
    "# Phase 2: Add the top journal flags\n",
    "### Inputs:\n",
    " - **filename**: file to indicate which are the Top journals. The default file is 'TopJournal_list.txt' and the list was taken from https://journalranking.org considering all the journals ranked as 3, 4, and 4* according to the ABS ranking. If you want to use a different file, create a file .txt with the list of journals, where each journal name is divided by newline as in the file 'TopJournal_list.txt'.\n",
    "\n",
    "\n",
    " - **df_file**: name of the file with .xlsx extension. The file is a data frame created in the previuos step, named 'Dataset_input.xlsx'. The file is a data frame with a column, named 'source_title', that refers to the name of the journal where the paper was pubblished.\n",
    "\n",
    "### Output:\n",
    "- 'Dataset_input.xslx' file: the input data frame  with a new column ('TOPJ') to indicate if the journal is top or not."
   ]
  },
  {
   "cell_type": "code",
   "execution_count": null,
   "id": "dc2b4460",
   "metadata": {},
   "outputs": [],
   "source": [
    "slr.add_top_journal(filename=\"TopJournal_list.txt\", df_file='Dataset_input.xlsx')"
   ]
  },
  {
   "cell_type": "markdown",
   "id": "22662821",
   "metadata": {},
   "source": [
    "# Phase 3: Clean the texts\n",
    "### Input:\n",
    "- **filename**: name of the file with .xlsx extension. The file is a data frame as created in the previuos step, named 'Dataset_input.xlsx'.\n",
    "    - Note: each text (abstract) should be a single string.\n",
    "\n",
    "### Output:\n",
    "- 'Dataset_input.xslx' file: the input data frame with a new column ('clean_text) with the cleaned version of the abstract."
   ]
  },
  {
   "cell_type": "code",
   "execution_count": null,
   "id": "7b0e304b",
   "metadata": {},
   "outputs": [],
   "source": [
    "slr.preprocess(filename='Dataset_input.xlsx')"
   ]
  },
  {
   "cell_type": "markdown",
   "id": "8aa704c5",
   "metadata": {},
   "source": [
    "# STAGE 2 - Analysis"
   ]
  },
  {
   "cell_type": "markdown",
   "id": "a21be61d",
   "metadata": {},
   "source": [
    "# Phase 3: Topic definition and document—topic associations\n",
    "##  Input values required to run the analysis:\n",
    "\n",
    "- **file_name**: name of the file created in Stage 1 (\"Dataset_Input.xlsx\").\n",
    "    - If you want to create your data frame skipping Stage 1, note that the input data frame must have the following columns:\n",
    "        - 'text_id': the identifier of the document, e.g. \"d1\".\n",
    "        - 'Total number of citations': total number of citations.\n",
    "        - 'Number of internal citations': number of citations within the dataset.\n",
    "        - 'References internal id': string of 'text_id' separated by space reporting the documents that appear as references, e.g. \"d1 d2 d3 d4 d5\".\n",
    "        - 'TopJ': boolean (\"Y\" or \"N\") if the pubblication belongs to Top Journal or not.\n",
    "        - 'clean_text': pre—processed text as string; words are separated by space.\n",
    "    \n",
    "\n",
    "\n",
    "- **method_w**: correction method for multiple testing problem: 'bonf' (Bonferroni correction) or 'fdr' (False Discovery Rate, Benjamini Y and Hochberg Y, 1995); the default value is 'fdr'.\n",
    "\n",
    "\n",
    "- **threshold_w**: value of the threshold to construct the Statistically Validated Network of words; the defaut value is 0.01.\n",
    "\n",
    "\n",
    "- **threshold_d**: value of the threshold for document-topic associations with Bonferroni correction method, the defaut value is 0.01.\n",
    "\n",
    "\n",
    "- **threshold_0**: value of the threshold to calculate the associations between documents and the topic named 'General' with the Bonferroni correction method; the defaut value is 0.01.\n",
    "\n",
    "\n",
    "## Outputs:\n",
    "- **SVN words.txt**: file with the edges list of the Statistically Validated Network of words; each row represents a link between two nodes ('source' and 'target') with its p-value and Pearson correlation coefficient. The file consists of four columns separated by '\\t':\n",
    "    - source, target, p-values, weight (Pearson correlation coefficient).\n",
    "    \n",
    "    \n",
    "- **Topic definition.xlsx**: data frame describing the Topics found as community of words in the Statistically Validated Network. The data frame has the following columns:\n",
    "    - 'topic': the identifier of the topic, e.g. \"topic_1\".\n",
    "    - 'word': the word in stemming form.\n",
    "    - 'modularity contribution': the importance of the node (word) within the community (topic) in terms of modularity contribution.\n",
    "    - 'original words': the list of words before the stemming procedure.\n",
    "\n",
    "\n",
    "- **Topic Document association.xlsx**: data frame describing the associations between documents and topics; \"topic_0\" represents the 'General' topic.  The data frame has the following columns:\n",
    "    - 'text_id': the identifier of the document, e.g. \"d1\".\n",
    "    - 'topic': the identifier of the topic, e.g. \"topic_1\".\n",
    "    - 'p-value': the p-value of the over—expression of the topic within the document.\n",
    "    - 'correlation': Pearson correlation coefficient of the over—expression of the topic within the document."
   ]
  },
  {
   "cell_type": "code",
   "execution_count": null,
   "id": "9d2c8a51",
   "metadata": {},
   "outputs": [],
   "source": [
    "import toolkit_functions as tlk"
   ]
  },
  {
   "cell_type": "code",
   "execution_count": null,
   "id": "7dac53b9",
   "metadata": {},
   "outputs": [],
   "source": [
    "tlk.run_analysis(file_name='Dataset_Input.xlsx', method_w='fdr', threshold_w=0.01,\n",
    "                 threshold_d=0.01, threshold_0=0.01)"
   ]
  },
  {
   "cell_type": "markdown",
   "id": "6299a04a",
   "metadata": {},
   "source": [
    "# Phase 4: Statistics of the selected topics\n",
    "\n",
    "## Input values required:\n",
    "\n",
    "- **file_name1**: file with .xlsx extension. The file 'Dataset_Input.xlsx' was used as input in Phase 1.\n",
    "\n",
    "\n",
    "- **file_name2**:  file with .xlsx extension. The file 'Topic Document association.xlsx' was obtained in Phase 1.\n",
    "\n",
    "\n",
    "- **file_name3**: file with .xlsx extension. The file 'Topic definition.xlsx' was obtained in Phase 1.\n",
    "\n",
    "\n",
    "- **file_name4**: file with .xlsx extension. The file 'topic_label_example.xlsx' was created to store the labels of topics in STAGE 2 - Step 2. The file must be a data frame with two columns called 'topic' and 'label'. The column 'topic' contains the id of topics as in the file 'Topic definition.xlsx'. The column 'label' contains the name you assigned to the topic selected. The file 'topic_label_example.xlsx' is an example.\n",
    "\n",
    "## Outputs:\n",
    "\n",
    "- **stats_topic.xlsx**: data frame describing the topics and some related statistics."
   ]
  },
  {
   "cell_type": "code",
   "execution_count": null,
   "id": "da44798c",
   "metadata": {},
   "outputs": [],
   "source": [
    "tlk.run_stats(file_name1='Dataset_Input.xlsx', file_name2='Topic Document association.xlsx', \n",
    "              file_name3='Topic definition.xlsx', file_name4='topic_label_example.xlsx')\n",
    "\n"
   ]
  },
  {
   "cell_type": "markdown",
   "id": "43585484",
   "metadata": {},
   "source": [
    "# STAGE 3 - Plots"
   ]
  },
  {
   "cell_type": "markdown",
   "id": "4e112d6b",
   "metadata": {},
   "source": [
    "# Phase 5: Plot the selected topics"
   ]
  },
  {
   "cell_type": "markdown",
   "id": "968c3602",
   "metadata": {},
   "source": [
    "## Input:\n",
    "- **df**: file with .xlsx extension. The output file 'stats_topic.xlsx' of Phase 4.\n",
    "- **name**: name of the file to save the plot.\n",
    "\n",
    "## Output:\n",
    "- Scatter-plot of topics along two dimensions: 'ratio of citations' (x-axis) and 'ratio of top journals' (y-axis). 'ratio of citations' is obtained as the 'Average number of citations within the dataset' divided by 'Average number of citations'. 'ratio of top journals' is obtained as the 'Number of papers from top journals over—expressed' divided by 'Number of papers over—expressed'."
   ]
  },
  {
   "cell_type": "code",
   "execution_count": null,
   "id": "62d8dba5",
   "metadata": {},
   "outputs": [],
   "source": [
    "tlk.plot_stats_1(df='stats_topic.xlsx', name='topic_overview_1.pdf')"
   ]
  },
  {
   "cell_type": "markdown",
   "id": "ebbdbae4",
   "metadata": {},
   "source": [
    "## Input:\n",
    "- **df**: file with .xlsx extension. The output file 'stats_topic.xlsx' of Phase 4.\n",
    "- **name**: name of the file to save the plot.\n",
    "\n",
    "## Output:\n",
    "- Scatter-plot of topics along two dimensions: 'Average number of citations within the dataset' (x-axis) and 'Average number of citations' (y-axis). "
   ]
  },
  {
   "cell_type": "code",
   "execution_count": null,
   "id": "b9106464",
   "metadata": {},
   "outputs": [],
   "source": [
    "tlk.plot_stats_2(df='stats_topic.xlsx', name='topic_overview_2.pdf')"
   ]
  }
 ],
 "metadata": {
  "kernelspec": {
   "display_name": "Python 3 (ipykernel)",
   "language": "python",
   "name": "python3"
  },
  "language_info": {
   "codemirror_mode": {
    "name": "ipython",
    "version": 3
   },
   "file_extension": ".py",
   "mimetype": "text/x-python",
   "name": "python",
   "nbconvert_exporter": "python",
   "pygments_lexer": "ipython3",
   "version": "3.8.18"
  }
 },
 "nbformat": 4,
 "nbformat_minor": 5
}
