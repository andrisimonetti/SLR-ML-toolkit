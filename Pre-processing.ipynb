{
 "cells": [
  {
   "cell_type": "markdown",
   "id": "e83d56bc",
   "metadata": {},
   "source": [
    "## Input:\n",
    "\n",
    "#### - df: pandas DataFrame; example: output from Notebook \"Import Scopus Dataset.ipynb\"\n",
    "#### - each text (abstract) should be a single string\n",
    "#### - col: name of the DataFrame's column of the texts; default 'abstracts' as output of Notebook \"Import Scopus Dataset.ipynb\""
   ]
  },
  {
   "cell_type": "code",
   "execution_count": 2,
   "id": "1764a8ed",
   "metadata": {},
   "outputs": [],
   "source": [
    "import preprocessing_text"
   ]
  },
  {
   "cell_type": "code",
   "execution_count": null,
   "id": "e28d589e",
   "metadata": {},
   "outputs": [],
   "source": [
    "new_df = preprocess(df, col='abstracts')"
   ]
  },
  {
   "cell_type": "code",
   "execution_count": null,
   "id": "8f3859bd",
   "metadata": {},
   "outputs": [],
   "source": [
    "new_df.to_excel('Insert_your_filename.xlsx',index=False)"
   ]
  }
 ],
 "metadata": {
  "kernelspec": {
   "display_name": "Python 3 (ipykernel)",
   "language": "python",
   "name": "python3"
  },
  "language_info": {
   "codemirror_mode": {
    "name": "ipython",
    "version": 3
   },
   "file_extension": ".py",
   "mimetype": "text/x-python",
   "name": "python",
   "nbconvert_exporter": "python",
   "pygments_lexer": "ipython3",
   "version": "3.8.18"
  }
 },
 "nbformat": 4,
 "nbformat_minor": 5
}
