{
 "cells": [
  {
   "cell_type": "markdown",
   "id": "3062a673",
   "metadata": {},
   "source": [
    "# Create a DataFrame with 2 columns:\n",
    "#### 1. 'topic': topic numer identifier from (name2 of the previous Notebook)\n",
    "####         if no name was given the default is \"topic_definition.xlsx\"\n",
    "#### 2. 'label': label assigned to each topic by researcher"
   ]
  },
  {
   "cell_type": "markdown",
   "id": "e0cb1c53",
   "metadata": {},
   "source": [
    "# Input of main function:\n",
    "\n",
    "## Load the following DataFrames created in the previous step:\n",
    "\n",
    "#### file_name1: .xlsx file used as input in the first Notebook\n",
    "#### file_name2:  .xlsx file related  to the document-topic associations\n",
    "####         if no name was given the default is \"Topic_Document_association.xlsx\"\n",
    "#### file_name3: .xlsx file created above with the label of topics\n",
    "\n",
    "\n",
    "#### name: .xlsx file to save the dataframe that summarize Topics statistics"
   ]
  },
  {
   "cell_type": "code",
   "execution_count": null,
   "id": "ee8c7a1c",
   "metadata": {},
   "outputs": [],
   "source": [
    "import toolkit_functions as tlk"
   ]
  },
  {
   "cell_type": "code",
   "execution_count": null,
   "id": "f1a1d308",
   "metadata": {},
   "outputs": [],
   "source": [
    "tlk.run_stats(file_name1, file_name2, file_name3, name)"
   ]
  },
  {
   "cell_type": "markdown",
   "id": "1a43ffbb",
   "metadata": {},
   "source": [
    "## Plots\n",
    "\n",
    "#### Input:\n",
    "##### df: .xslx file created with 'run_stats' function as above"
   ]
  },
  {
   "cell_type": "code",
   "execution_count": null,
   "id": "d1b872b9",
   "metadata": {},
   "outputs": [],
   "source": [
    "tlk.plot_stats_1(df, name='topic_overview_1.pdf')\n",
    "tlk.plot_stats_2(df, name='topic_overview_1.pdf')"
   ]
  },
  {
   "cell_type": "code",
   "execution_count": null,
   "id": "47738d52",
   "metadata": {},
   "outputs": [],
   "source": []
  }
 ],
 "metadata": {
  "kernelspec": {
   "display_name": "Python 3 (ipykernel)",
   "language": "python",
   "name": "python3"
  },
  "language_info": {
   "codemirror_mode": {
    "name": "ipython",
    "version": 3
   },
   "file_extension": ".py",
   "mimetype": "text/x-python",
   "name": "python",
   "nbconvert_exporter": "python",
   "pygments_lexer": "ipython3",
   "version": "3.8.18"
  }
 },
 "nbformat": 4,
 "nbformat_minor": 5
}
