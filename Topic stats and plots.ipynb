{
 "cells": [
  {
   "cell_type": "markdown",
   "id": "e0cb1c53",
   "metadata": {},
   "source": [
    "# 1. Run the codes below\n",
    "\n",
    "## Input values required:\n",
    "\n",
    "- **file_name1**: file with .xlsx extension. The file used as input in the Notebook 'Main_Analysis.ipynb'; The file example is 'Dataset_Input_example.xlsx'\n",
    "\n",
    "- **file_name2**:  file with .xlsx extension. The file \"Topic_Document_association.xlsx\" (output after running the Notebook'Main_Analysis.ipynb') related to the document-topic associations\".\n",
    "     \n",
    "- **file_name3**: file with .xlsx extension. The file created to store the labels of topics. The file must be a data frame with two columns called 'topic' and 'label'. The column 'topic' contains the id of topics as in the file \"topic_definition.xlsx\" (output of after running the Notebook'Main_Analysis.ipynb'). The column 'label' contains the name you assigned to the topic selected. The file 'topic_label_example.xlsx' is an example.\n",
    "\n",
    "## Outputs:\n",
    "\n",
    "- **'stats_topic.xlsx'**: data frame describing the topics and some related statistics."
   ]
  },
  {
   "cell_type": "code",
   "execution_count": null,
   "id": "ee8c7a1c",
   "metadata": {},
   "outputs": [],
   "source": [
    "import toolkit_functions as tlk"
   ]
  },
  {
   "cell_type": "code",
   "execution_count": null,
   "id": "f1a1d308",
   "metadata": {},
   "outputs": [],
   "source": [
    "tlk.run_stats(file_name1='Dataset_Input_example.xlsx', file_name2='Topic_Document_association.xlsx', \n",
    "              file_name3='topic_definition.xlsx', file_name4='topic_label_example.xlsx')\n",
    "\n"
   ]
  },
  {
   "cell_type": "markdown",
   "id": "1a43ffbb",
   "metadata": {},
   "source": [
    "## Input:\n",
    "- **df**: output file 'stats_topic.xlsx' of function 'run_stats'.\n",
    "- **name**: name of the file to save the plot.\n",
    "\n",
    "## Output:\n",
    "- scatter-plot of documents along two dimensions: 'ratio of citations' (x-axis) and 'ratio of top journals' (y-axis)."
   ]
  },
  {
   "cell_type": "code",
   "execution_count": null,
   "id": "34e4cb29",
   "metadata": {},
   "outputs": [],
   "source": [
    "tlk.plot_stats_1(df='stats_topic.xlsx', name='topic_overview_1.pdf')"
   ]
  },
  {
   "cell_type": "markdown",
   "id": "ca06082f",
   "metadata": {},
   "source": [
    "## Input:\n",
    "- **df**: output file 'stats_topic.xlsx' of function 'run_stats'.\n",
    "- **name**: name of the file to save the plot.\n",
    "\n",
    "## Output:\n",
    "- scatter-plot of documents along two dimensions: 'number of internal citations' (x-axis) and 'total number of citations' (y-axis)."
   ]
  },
  {
   "cell_type": "code",
   "execution_count": null,
   "id": "d1b872b9",
   "metadata": {},
   "outputs": [],
   "source": [
    "tlk.plot_stats_2(df='stats_topic.xlsx', name='topic_overview_1.pdf')"
   ]
  }
 ],
 "metadata": {
  "kernelspec": {
   "display_name": "Python 3 (ipykernel)",
   "language": "python",
   "name": "python3"
  },
  "language_info": {
   "codemirror_mode": {
    "name": "ipython",
    "version": 3
   },
   "file_extension": ".py",
   "mimetype": "text/x-python",
   "name": "python",
   "nbconvert_exporter": "python",
   "pygments_lexer": "ipython3",
   "version": "3.8.18"
  }
 },
 "nbformat": 4,
 "nbformat_minor": 5
}
