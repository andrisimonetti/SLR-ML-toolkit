{
 "cells": [
  {
   "cell_type": "markdown",
   "id": "3c786383",
   "metadata": {},
   "source": [
    "# Create a DataFrame with the following columns:\n",
    "####\t\t\t\t\t\t 'clean_text': preprocessed text as string; words separated by space\n",
    "####\t\t\t\t\t\t 'text_id': id associated to each document\n",
    "####\t\t\t\t\t\t 'tot_cit': total number of citations\n",
    "####\t\t\t\t\t\t 'internal_cit': number of citations within the dataset\n",
    "####\t\t\t\t\t\t 'TopJ': boolean if the pubblication belongs to Top Journal or not\n",
    "####\t\t\t\t\t\t 'references_internal_id': string of text_id that cited the document separated by space"
   ]
  },
  {
   "cell_type": "markdown",
   "id": "0b88880f",
   "metadata": {},
   "source": [
    "## - - - - - - - - - - "
   ]
  },
  {
   "cell_type": "markdown",
   "id": "a21be61d",
   "metadata": {},
   "source": [
    "## Input of main function:\n",
    "#### file_name: name of the file created\n",
    "#### name1: .txt file to save list of word-pairs and their p-values\n",
    "#### name2: .xlsx file to save the dataframe of Topics from the Statistically Validated Network of words\n",
    "#### name3: .xlsx file to save the dataframe of the document-topic associations\n",
    "#### method_w: method for multiple test correction: 'bonf' or 'fdr'; 'bonf' by default\n",
    "#### soglia_w: value of the threshold for the Statistically Validated Network of words\n",
    "#### soglia_d: value of the threshold for document-topic associations (Bonferroni method by default)\n",
    "#### soglia_0: value of the threshold for document-General topic associations (Bonferroni method by default)"
   ]
  },
  {
   "cell_type": "code",
   "execution_count": null,
   "id": "9d2c8a51",
   "metadata": {},
   "outputs": [],
   "source": [
    "import toolkit_functions as tlk"
   ]
  },
  {
   "cell_type": "code",
   "execution_count": null,
   "id": "7dac53b9",
   "metadata": {},
   "outputs": [],
   "source": [
    "tlk.run_analysis(file_name, name1, name2, name3, method_w, soglia_w, soglia_d, soglia_0)"
   ]
  },
  {
   "cell_type": "code",
   "execution_count": null,
   "id": "da44798c",
   "metadata": {},
   "outputs": [],
   "source": []
  },
  {
   "cell_type": "code",
   "execution_count": null,
   "id": "9eb2e186",
   "metadata": {},
   "outputs": [],
   "source": []
  }
 ],
 "metadata": {
  "kernelspec": {
   "display_name": "Python 3 (ipykernel)",
   "language": "python",
   "name": "python3"
  },
  "language_info": {
   "codemirror_mode": {
    "name": "ipython",
    "version": 3
   },
   "file_extension": ".py",
   "mimetype": "text/x-python",
   "name": "python",
   "nbconvert_exporter": "python",
   "pygments_lexer": "ipython3",
   "version": "3.8.18"
  }
 },
 "nbformat": 4,
 "nbformat_minor": 5
}
