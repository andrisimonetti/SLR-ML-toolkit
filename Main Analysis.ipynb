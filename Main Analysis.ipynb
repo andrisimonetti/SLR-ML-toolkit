{
 "cells": [
  {
   "cell_type": "markdown",
   "id": "dc3f3f0c",
   "metadata": {},
   "source": [
    "# Create a DataFrame with the following columns:\n",
    "####\t\t\t\t\t\t 'clean_text': preprocessed text as string\n",
    "####\t\t\t\t\t\t 'text_id': id associated to each document\n",
    "####\t\t\t\t\t\t 'tot_cit': total number of citations\n",
    "####\t\t\t\t\t\t 'internal_cit': number of citations within the dataset\n",
    "####\t\t\t\t\t\t 'TopJ': boolean if the pubblication belongs to Top Journal or not\n",
    "####\t\t\t\t\t\t 'references_internal_id': string of text_id separated by space (within the dataset) that cited the document"
   ]
  },
  {
   "cell_type": "markdown",
   "id": "1cf04ef2",
   "metadata": {},
   "source": [
    "## - - - - - - - - - - "
   ]
  },
  {
   "cell_type": "markdown",
   "id": "5fd045a7",
   "metadata": {},
   "source": [
    "## Input of main function:\n",
    "#### file_name: name of the file created\n",
    "#### name1: .txt file to save list of word-pairs and their p-values\n",
    "#### name2: .xlsx file to save the dataframe of Topics from the Statistically Validated Network of words\n",
    "#### name3: .xlsx file to save the dataframe of the document-topic associations"
   ]
  },
  {
   "cell_type": "code",
   "execution_count": null,
   "id": "bf11f41f",
   "metadata": {},
   "outputs": [],
   "source": [
    "import toolkit_functions as tlk"
   ]
  },
  {
   "cell_type": "code",
   "execution_count": null,
   "id": "3ae2b9aa",
   "metadata": {},
   "outputs": [],
   "source": [
    "tlk.run_analysis(file_name, name1, name2, name3)"
   ]
  },
  {
   "cell_type": "code",
   "execution_count": null,
   "id": "3e0abdb3",
   "metadata": {},
   "outputs": [],
   "source": []
  },
  {
   "cell_type": "code",
   "execution_count": null,
   "id": "2b9e4847",
   "metadata": {},
   "outputs": [],
   "source": []
  }
 ],
 "metadata": {
  "kernelspec": {
   "display_name": "Python 3 (ipykernel)",
   "language": "python",
   "name": "python3"
  },
  "language_info": {
   "codemirror_mode": {
    "name": "ipython",
    "version": 3
   },
   "file_extension": ".py",
   "mimetype": "text/x-python",
   "name": "python",
   "nbconvert_exporter": "python",
   "pygments_lexer": "ipython3",
   "version": "3.8.18"
  }
 },
 "nbformat": 4,
 "nbformat_minor": 5
}
