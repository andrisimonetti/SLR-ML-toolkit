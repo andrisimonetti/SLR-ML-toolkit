{
 "cells": [
  {
   "cell_type": "markdown",
   "id": "3c786383",
   "metadata": {},
   "source": [
    "# Create a DataFrame with the following columns:\n",
    "\n",
    "####\t\t\t\t\t\t 'text_id': id associated to each document\n",
    "####\t\t\t\t\t\t 'tot_cit': total number of citations\n",
    "####\t\t\t\t\t\t 'internal_cit': number of citations within the dataset\n",
    "####\t\t\t\t\t\t 'references_internal_id': string of text_id that cited the document separated by space\n",
    "####\t\t\t\t\t\t 'TopJ': boolean if the pubblication belongs to Top Journal or not\n",
    "####\t\t\t\t\t\t 'clean_text': preprocessed text as string; words separated by space"
   ]
  },
  {
   "cell_type": "markdown",
   "id": "0b88880f",
   "metadata": {},
   "source": [
    "## - - - - - - - - - - "
   ]
  },
  {
   "cell_type": "markdown",
   "id": "a21be61d",
   "metadata": {},
   "source": [
    "## Input of function for the analysis:\n",
    "\n",
    "#### file_name: name of the file created above; file 'Dataset_Input_example.xlsx' as an example\n",
    "#### name1: filename.txt file to save list of word-pairs and their p-values\n",
    "#### name2: filename.xlsx file to save the dataframe of Topics from the Statistically Validated Network of words\n",
    "#### name3: filename.xlsx file to save the dataframe of the document-topic associations\n",
    "#### method_w: correction method for multiple testing problem: 'bonf' or 'fdr'; 'bonf' by default\n",
    "#### soglia_w: value of the threshold for the Statistically Validated Network of words\n",
    "#### soglia_d: value of the threshold for document-topic associations (Bonferroni method by default)\n",
    "#### soglia_0: value of the threshold for document-General topic associations (Bonferroni method by default)"
   ]
  },
  {
   "cell_type": "code",
   "execution_count": null,
   "id": "9d2c8a51",
   "metadata": {},
   "outputs": [],
   "source": [
    "import toolkit_functions as tlk"
   ]
  },
  {
   "cell_type": "code",
   "execution_count": null,
   "id": "7dac53b9",
   "metadata": {},
   "outputs": [],
   "source": [
    "tlk.run_analysis(file_name='Dataset_Input_example.xlsx', name1='svn_words.txt', name2='topic_definition.xlsx', \n",
    "                 name3='Topic_Document_association.xlsx', method_w='bonf', soglia_w=0.05,\n",
    "                 soglia_d=0.01, soglia_0=0.01)"
   ]
  },
  {
   "cell_type": "code",
   "execution_count": null,
   "id": "da44798c",
   "metadata": {},
   "outputs": [],
   "source": []
  },
  {
   "cell_type": "code",
   "execution_count": null,
   "id": "9eb2e186",
   "metadata": {},
   "outputs": [],
   "source": []
  }
 ],
 "metadata": {
  "kernelspec": {
   "display_name": "Python 3 (ipykernel)",
   "language": "python",
   "name": "python3"
  },
  "language_info": {
   "codemirror_mode": {
    "name": "ipython",
    "version": 3
   },
   "file_extension": ".py",
   "mimetype": "text/x-python",
   "name": "python",
   "nbconvert_exporter": "python",
   "pygments_lexer": "ipython3",
   "version": "3.8.18"
  }
 },
 "nbformat": 4,
 "nbformat_minor": 5
}
