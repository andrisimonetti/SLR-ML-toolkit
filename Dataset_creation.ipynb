{
 "cells": [
  {
   "cell_type": "markdown",
   "id": "515c22fc",
   "metadata": {},
   "source": [
    "## 1 Run the code below:\n",
    "\n",
    "### Input\n",
    " - \"filename\": name of the file downloaded from web of Sciece with .txt extension\n",
    "\n",
    "### Output\n",
    " - \"Dataset_input.xslx\" file, a DataFrame in which each row represents a paper and the columns are:\n",
    "     - id of text; first author; authors; article title; abstract; source title; pubblication year; EA; journal abbreviation; journal iso abbreviation; references; total number of citations; DOI."
   ]
  },
  {
   "cell_type": "code",
   "execution_count": 2,
   "id": "f338752e",
   "metadata": {},
   "outputs": [],
   "source": [
    "import wos_functions as wos"
   ]
  },
  {
   "cell_type": "code",
   "execution_count": null,
   "id": "a66de3cc",
   "metadata": {},
   "outputs": [],
   "source": [
    "wos.read_txt(filename)"
   ]
  },
  {
   "cell_type": "markdown",
   "id": "1f6c0938",
   "metadata": {},
   "source": [
    "# 2 Run the following code to add the top journal flags\n",
    "### Inputs:\n",
    " - \"filename\": file to indicate which are the Top journals. The default file is \"TopJournal_list.txt\" and the list was taken from https://journalranking.org considering 3, 4, and 4*. If you want to use a different file, create a file .txt with the list of journals, where each journal name is divided by newline as in the file \"TopJournal_list.txt\".\n",
    "\n",
    "\n",
    " - \"df\": name of the file with .xlsx extension. The file is a DataFrame with a column, named 'source_title', that refers to the name of the journal where the paper was pubblished.\n",
    "\n",
    "### Output:\n",
    "- \"Dataset_input.xslx\" file, the input DataFrame  with a new column ('TOPJ') that indicate if the journal is top or not."
   ]
  },
  {
   "cell_type": "code",
   "execution_count": null,
   "id": "e2af9d9e",
   "metadata": {},
   "outputs": [],
   "source": [
    "wos.add_top_journal(filename=\"TopJournal_list.txt\", df='Dataset_input.xslx')"
   ]
  },
  {
   "cell_type": "markdown",
   "id": "b9a26ec4",
   "metadata": {},
   "source": [
    "# 3 Run the following code to clean the texts\n",
    "### Input:\n",
    "- \"df\": name of the file with .xlsx extension. The file is a DataFrame; the file example is 'Dataset_input_example.xslx'\n",
    "    - Note: each text (abstract) should be a single string\n",
    "\n",
    "### Output:\n",
    "- \"Dataset_input.xslx\" file, the input DataFrame with a new columns ('clean_text) with the cleaned version of the abstract"
   ]
  },
  {
   "cell_type": "code",
   "execution_count": null,
   "id": "cc5d8236",
   "metadata": {},
   "outputs": [],
   "source": [
    "import preprocessing_text"
   ]
  },
  {
   "cell_type": "code",
   "execution_count": null,
   "id": "bac48ee9",
   "metadata": {},
   "outputs": [],
   "source": [
    "preprocess(df='Dataset_input.xslx')"
   ]
  },
  {
   "cell_type": "code",
   "execution_count": null,
   "id": "664104d4",
   "metadata": {},
   "outputs": [],
   "source": []
  },
  {
   "cell_type": "code",
   "execution_count": null,
   "id": "a2e1796b",
   "metadata": {},
   "outputs": [],
   "source": []
  }
 ],
 "metadata": {
  "kernelspec": {
   "display_name": "Python 3 (ipykernel)",
   "language": "python",
   "name": "python3"
  },
  "language_info": {
   "codemirror_mode": {
    "name": "ipython",
    "version": 3
   },
   "file_extension": ".py",
   "mimetype": "text/x-python",
   "name": "python",
   "nbconvert_exporter": "python",
   "pygments_lexer": "ipython3",
   "version": "3.8.18"
  }
 },
 "nbformat": 4,
 "nbformat_minor": 5
}
