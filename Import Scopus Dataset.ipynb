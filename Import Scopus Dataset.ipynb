{
 "cells": [
  {
   "cell_type": "markdown",
   "id": "1f6c0938",
   "metadata": {},
   "source": [
    "## Input:\n",
    "\n",
    "### Function: read_txt\n",
    "#### - filename: name of the file downloaded from Scopus\n",
    "\n",
    "### Function: add_top_journal\n",
    "#### - filename: \"TopJournal_list.xlsx\" file to indicate which are the Top journals (3, 4, 4*) https://journalranking.org\n",
    "#### - df: pandas DataFrame with the column ('source_title') referring to the journal where the paper were pubblished\n",
    "\n",
    "### Function: add_internal_citation\n",
    "#### - filename: pandas DataFrame created with the function 'read_txt()'"
   ]
  },
  {
   "cell_type": "code",
   "execution_count": 2,
   "id": "f338752e",
   "metadata": {},
   "outputs": [],
   "source": [
    "import scopus_functions"
   ]
  },
  {
   "cell_type": "code",
   "execution_count": null,
   "id": "a66de3cc",
   "metadata": {},
   "outputs": [],
   "source": [
    "df = read_txt(filename)"
   ]
  },
  {
   "cell_type": "code",
   "execution_count": null,
   "id": "e2af9d9e",
   "metadata": {},
   "outputs": [],
   "source": [
    "df = add_top_journal(filename,df)"
   ]
  },
  {
   "cell_type": "code",
   "execution_count": null,
   "id": "c0cbf0e1",
   "metadata": {},
   "outputs": [],
   "source": [
    "df = add_internal_citation(df)"
   ]
  },
  {
   "cell_type": "code",
   "execution_count": null,
   "id": "cc5d8236",
   "metadata": {},
   "outputs": [],
   "source": []
  },
  {
   "cell_type": "code",
   "execution_count": null,
   "id": "bac48ee9",
   "metadata": {},
   "outputs": [],
   "source": []
  },
  {
   "cell_type": "code",
   "execution_count": null,
   "id": "664104d4",
   "metadata": {},
   "outputs": [],
   "source": []
  },
  {
   "cell_type": "code",
   "execution_count": null,
   "id": "a2e1796b",
   "metadata": {},
   "outputs": [],
   "source": []
  }
 ],
 "metadata": {
  "kernelspec": {
   "display_name": "Python 3 (ipykernel)",
   "language": "python",
   "name": "python3"
  },
  "language_info": {
   "codemirror_mode": {
    "name": "ipython",
    "version": 3
   },
   "file_extension": ".py",
   "mimetype": "text/x-python",
   "name": "python",
   "nbconvert_exporter": "python",
   "pygments_lexer": "ipython3",
   "version": "3.8.18"
  }
 },
 "nbformat": 4,
 "nbformat_minor": 5
}
